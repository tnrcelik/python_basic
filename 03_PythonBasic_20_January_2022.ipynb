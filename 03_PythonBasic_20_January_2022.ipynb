{
  "cells": [
    {
      "cell_type": "markdown",
      "metadata": {
        "id": "view-in-github",
        "colab_type": "text"
      },
      "source": [
        "<a href=\"https://colab.research.google.com/github/tnrcelik/python_basic/blob/main/03_PythonBasic_20_January_2022.ipynb\" target=\"_parent\"><img src=\"https://colab.research.google.com/assets/colab-badge.svg\" alt=\"Open In Colab\"/></a>"
      ]
    },
    {
      "cell_type": "markdown",
      "id": "406f2981",
      "metadata": {
        "id": "406f2981"
      },
      "source": [
        "<img src=\"https://docs.google.com/uc?id=14xeXxFrVRjvOoUYWn_GuyE-v84wVzrqr\" class=\"img-fluid\" alt=\"CLRWY\" width=\"400\" height=\"200\">"
      ]
    },
    {
      "cell_type": "markdown",
      "id": "22263af8",
      "metadata": {
        "id": "22263af8"
      },
      "source": [
        "<h1><p style=\"text-align: center; color:darkblue\">Python In-Class, <br>17 January 2022</p><h1>"
      ]
    },
    {
      "cell_type": "code",
      "execution_count": null,
      "id": "622b6840",
      "metadata": {
        "id": "622b6840"
      },
      "outputs": [],
      "source": [
        "değişken = 10"
      ]
    },
    {
      "cell_type": "code",
      "execution_count": null,
      "id": "55c73ae2",
      "metadata": {
        "id": "55c73ae2",
        "outputId": "fc088f2f-3265-4a62-e849-e8cdf180ab21"
      },
      "outputs": [
        {
          "data": {
            "text/plain": [
              "10"
            ]
          },
          "execution_count": 2,
          "metadata": {},
          "output_type": "execute_result"
        }
      ],
      "source": [
        "değişken"
      ]
    },
    {
      "cell_type": "code",
      "execution_count": null,
      "id": "327654cc",
      "metadata": {
        "id": "327654cc",
        "outputId": "9ae5ef67-9256-499b-c559-5621b4ab5cc8"
      },
      "outputs": [
        {
          "data": {
            "text/plain": [
              "11"
            ]
          },
          "execution_count": 3,
          "metadata": {},
          "output_type": "execute_result"
        }
      ],
      "source": [
        "değişken = değişken + 1\n",
        "değişken"
      ]
    },
    {
      "cell_type": "code",
      "execution_count": null,
      "id": "eb7725c9",
      "metadata": {
        "id": "eb7725c9",
        "outputId": "de9cf2d8-8a7d-4488-cb04-7bbf699884c2"
      },
      "outputs": [
        {
          "data": {
            "text/plain": [
              "12"
            ]
          },
          "execution_count": 4,
          "metadata": {},
          "output_type": "execute_result"
        }
      ],
      "source": [
        "değişken = değişken + 1\n",
        "değişken"
      ]
    },
    {
      "cell_type": "code",
      "execution_count": null,
      "id": "44068dbd",
      "metadata": {
        "id": "44068dbd"
      },
      "outputs": [],
      "source": [
        "değişken2 = 5"
      ]
    },
    {
      "cell_type": "code",
      "execution_count": null,
      "id": "9afe9ed3",
      "metadata": {
        "id": "9afe9ed3",
        "outputId": "c8c3ac32-fec6-4f46-f893-353e55656715"
      },
      "outputs": [
        {
          "data": {
            "text/plain": [
              "10"
            ]
          },
          "execution_count": 6,
          "metadata": {},
          "output_type": "execute_result"
        }
      ],
      "source": [
        "değişken2 = değişken2 * 2\n",
        "değişken2"
      ]
    },
    {
      "cell_type": "code",
      "execution_count": null,
      "id": "d392ee62",
      "metadata": {
        "id": "d392ee62",
        "outputId": "efecd967-09ae-4b5c-e4c2-b836232da9d1"
      },
      "outputs": [
        {
          "data": {
            "text/plain": [
              "20"
            ]
          },
          "execution_count": 7,
          "metadata": {},
          "output_type": "execute_result"
        }
      ],
      "source": [
        "değişken2 = değişken2 * 2\n",
        "değişken2"
      ]
    },
    {
      "cell_type": "code",
      "execution_count": null,
      "id": "7219ba85",
      "metadata": {
        "id": "7219ba85",
        "outputId": "e7f3cf4a-73c1-4cc1-b7f8-ac93f39cd536"
      },
      "outputs": [
        {
          "data": {
            "text/plain": [
              "12"
            ]
          },
          "execution_count": 8,
          "metadata": {},
          "output_type": "execute_result"
        }
      ],
      "source": [
        "değişken"
      ]
    },
    {
      "cell_type": "code",
      "execution_count": null,
      "id": "0446c433",
      "metadata": {
        "id": "0446c433",
        "outputId": "160b67aa-924b-49cb-e54f-f096d5012b89"
      },
      "outputs": [
        {
          "data": {
            "text/plain": [
              "13"
            ]
          },
          "execution_count": 9,
          "metadata": {},
          "output_type": "execute_result"
        }
      ],
      "source": [
        "değişken += 1\n",
        "değişken"
      ]
    },
    {
      "cell_type": "code",
      "execution_count": null,
      "id": "bb4dfaf5",
      "metadata": {
        "id": "bb4dfaf5",
        "outputId": "f840cb05-ef95-4c75-e0fe-23e713897e0e"
      },
      "outputs": [
        {
          "data": {
            "text/plain": [
              "20"
            ]
          },
          "execution_count": 10,
          "metadata": {},
          "output_type": "execute_result"
        }
      ],
      "source": [
        "değişken2"
      ]
    },
    {
      "cell_type": "code",
      "execution_count": null,
      "id": "42de674e",
      "metadata": {
        "id": "42de674e",
        "outputId": "76ab942d-c27a-449e-c681-e63a3be7ac1e"
      },
      "outputs": [
        {
          "data": {
            "text/plain": [
              "40"
            ]
          },
          "execution_count": 11,
          "metadata": {},
          "output_type": "execute_result"
        }
      ],
      "source": [
        "değişken2 *= 2\n",
        "değişken2"
      ]
    },
    {
      "cell_type": "code",
      "execution_count": null,
      "id": "c0e3aa57",
      "metadata": {
        "id": "c0e3aa57"
      },
      "outputs": [],
      "source": [
        "a = 8\n",
        "b = 2"
      ]
    },
    {
      "cell_type": "code",
      "execution_count": null,
      "id": "0684b269",
      "metadata": {
        "id": "0684b269",
        "outputId": "56e89221-56ed-4ba8-b969-1d0297adc6d4"
      },
      "outputs": [
        {
          "data": {
            "text/plain": [
              "10"
            ]
          },
          "execution_count": 13,
          "metadata": {},
          "output_type": "execute_result"
        }
      ],
      "source": [
        "a += b\n",
        "a"
      ]
    },
    {
      "cell_type": "code",
      "execution_count": null,
      "id": "6d62b09a",
      "metadata": {
        "id": "6d62b09a",
        "outputId": "f501211e-e9ac-47a4-b644-d7b16d37265e"
      },
      "outputs": [
        {
          "data": {
            "text/plain": [
              "20"
            ]
          },
          "execution_count": 14,
          "metadata": {},
          "output_type": "execute_result"
        }
      ],
      "source": [
        "a *= b\n",
        "a"
      ]
    },
    {
      "cell_type": "code",
      "execution_count": null,
      "id": "799cc024",
      "metadata": {
        "id": "799cc024"
      },
      "outputs": [],
      "source": [
        "a = 3\n",
        "b = 4\n",
        "c = (a ** 2 + b ** 2) ** 0.5"
      ]
    },
    {
      "cell_type": "code",
      "execution_count": null,
      "id": "10d82a1a",
      "metadata": {
        "id": "10d82a1a",
        "outputId": "224e6ef6-c1a2-4ae7-c3a9-f3f2e1c4d74f"
      },
      "outputs": [
        {
          "data": {
            "text/plain": [
              "5.0"
            ]
          },
          "execution_count": 16,
          "metadata": {},
          "output_type": "execute_result"
        }
      ],
      "source": [
        "c"
      ]
    },
    {
      "cell_type": "code",
      "execution_count": null,
      "id": "0e1a3a8a",
      "metadata": {
        "id": "0e1a3a8a"
      },
      "outputs": [],
      "source": [
        "?print"
      ]
    },
    {
      "cell_type": "code",
      "execution_count": null,
      "id": "2d51e315",
      "metadata": {
        "id": "2d51e315",
        "outputId": "e44cc595-fd9c-4788-b521-2979d3a3ac59"
      },
      "outputs": [
        {
          "name": "stdout",
          "output_type": "stream",
          "text": [
            "ali\n",
            "deli veli\n",
            "selvi baharat 44\n",
            "5.0 False ahmet 3.14\n"
          ]
        }
      ],
      "source": [
        "print(\"ali\")\n",
        "print(\"deli\", \"veli\")\n",
        "print(\"selvi\", \"baharat\", 44)\n",
        "print(c, False, \"ahmet\", 3.14)"
      ]
    },
    {
      "cell_type": "code",
      "execution_count": null,
      "id": "405215c1",
      "metadata": {
        "id": "405215c1",
        "outputId": "b17471df-f269-4bb2-bb1c-05e5c1e49cc3"
      },
      "outputs": [
        {
          "name": "stdout",
          "output_type": "stream",
          "text": [
            "5.0-False-ahmet-3.14\n"
          ]
        }
      ],
      "source": [
        "print(c, False, \"ahmet\", 3.14, sep = \"-\")"
      ]
    },
    {
      "cell_type": "code",
      "execution_count": null,
      "id": "5cca4b4c",
      "metadata": {
        "id": "5cca4b4c",
        "outputId": "d36b5a24-42bd-439e-a2e4-0f794709dd08"
      },
      "outputs": [
        {
          "name": "stdout",
          "output_type": "stream",
          "text": [
            "selvi**baharat**44\n"
          ]
        }
      ],
      "source": [
        "print(\"selvi\", \"baharat\", 44, sep = \"**\")"
      ]
    },
    {
      "cell_type": "code",
      "execution_count": null,
      "id": "31c8ffc5",
      "metadata": {
        "id": "31c8ffc5",
        "outputId": "b09550ab-cf50-458b-a7e4-b11c388469cb"
      },
      "outputs": [
        {
          "name": "stdout",
          "output_type": "stream",
          "text": [
            "ali veli ayşe\n"
          ]
        }
      ],
      "source": [
        "print(\"ali\", end = \" \")\n",
        "print(\"veli\", \"ayşe\")"
      ]
    },
    {
      "cell_type": "code",
      "execution_count": null,
      "id": "46198a35",
      "metadata": {
        "id": "46198a35",
        "outputId": "77bfa66d-4b06-4bdf-84d1-72bb603df43b"
      },
      "outputs": [
        {
          "name": "stdout",
          "output_type": "stream",
          "text": [
            "ali\n",
            "veli ayşe\n"
          ]
        }
      ],
      "source": [
        "print(\"ali\")\n",
        "print(\"veli\", \"ayşe\")"
      ]
    },
    {
      "cell_type": "code",
      "execution_count": null,
      "id": "48878e15",
      "metadata": {
        "id": "48878e15",
        "outputId": "d5c77374-4a3f-493c-9664-2269a5f19981"
      },
      "outputs": [
        {
          "ename": "SyntaxError",
          "evalue": "EOL while scanning string literal (<ipython-input-26-e18638b0f60f>, line 1)",
          "output_type": "error",
          "traceback": [
            "\u001b[0;36m  File \u001b[0;32m\"<ipython-input-26-e18638b0f60f>\"\u001b[0;36m, line \u001b[0;32m1\u001b[0m\n\u001b[0;31m    print('Ahmet'in ceketi')\u001b[0m\n\u001b[0m                            ^\u001b[0m\n\u001b[0;31mSyntaxError\u001b[0m\u001b[0;31m:\u001b[0m EOL while scanning string literal\n"
          ]
        }
      ],
      "source": [
        "print('Ahmet'in ceketi')"
      ]
    },
    {
      "cell_type": "code",
      "execution_count": null,
      "id": "f4167889",
      "metadata": {
        "id": "f4167889",
        "outputId": "e1dfa53a-55d6-404d-cf31-45dc8d96be92"
      },
      "outputs": [
        {
          "name": "stdout",
          "output_type": "stream",
          "text": [
            "Ahmet'in ceketi\n"
          ]
        }
      ],
      "source": [
        "print('Ahmet\\'in ceketi')"
      ]
    },
    {
      "cell_type": "code",
      "execution_count": null,
      "id": "9e14b5a9",
      "metadata": {
        "id": "9e14b5a9",
        "outputId": "dba9a8a2-83b4-4c37-f1ed-fa04c1ee65ce"
      },
      "outputs": [
        {
          "name": "stdout",
          "output_type": "stream",
          "text": [
            "Ahmet\\in ceketi\n"
          ]
        }
      ],
      "source": [
        "print('Ahmet\\in ceketi')"
      ]
    },
    {
      "cell_type": "code",
      "execution_count": null,
      "id": "da893318",
      "metadata": {
        "id": "da893318",
        "outputId": "245d92b8-0317-449d-dc4c-24853b477654"
      },
      "outputs": [
        {
          "name": "stdout",
          "output_type": "stream",
          "text": [
            "Ayla\n",
            "ın çantası\n"
          ]
        }
      ],
      "source": [
        "print('Ayla\\nın çantası')"
      ]
    },
    {
      "cell_type": "code",
      "execution_count": null,
      "id": "7eb4665b",
      "metadata": {
        "id": "7eb4665b",
        "outputId": "92c8447f-ab03-4988-a1f9-e29fca151afe"
      },
      "outputs": [
        {
          "name": "stdout",
          "output_type": "stream",
          "text": [
            "Ayla\\nın çantası\n"
          ]
        }
      ],
      "source": [
        "print('Ayla\\\\nın çantası')"
      ]
    },
    {
      "cell_type": "code",
      "execution_count": null,
      "id": "f20d645b",
      "metadata": {
        "id": "f20d645b",
        "outputId": "ba50f06a-5f6c-43c9-b288-621a161a087d"
      },
      "outputs": [
        {
          "data": {
            "text/plain": [
              "True"
            ]
          },
          "execution_count": 32,
          "metadata": {},
          "output_type": "execute_result"
        }
      ],
      "source": [
        "True and True and True"
      ]
    },
    {
      "cell_type": "code",
      "execution_count": null,
      "id": "c6299990",
      "metadata": {
        "id": "c6299990",
        "outputId": "88bdea21-287d-4e1f-de1b-9fe1fdab8497"
      },
      "outputs": [
        {
          "data": {
            "text/plain": [
              "3"
            ]
          },
          "execution_count": 33,
          "metadata": {},
          "output_type": "execute_result"
        }
      ],
      "source": [
        "1 and 2 and 3"
      ]
    },
    {
      "cell_type": "code",
      "execution_count": null,
      "id": "15730e81",
      "metadata": {
        "id": "15730e81",
        "outputId": "bcc1410d-f191-4efb-a937-1f97157837fc"
      },
      "outputs": [
        {
          "data": {
            "text/plain": [
              "False"
            ]
          },
          "execution_count": 34,
          "metadata": {},
          "output_type": "execute_result"
        }
      ],
      "source": [
        "bool(None)"
      ]
    },
    {
      "cell_type": "code",
      "execution_count": null,
      "id": "3de34721",
      "metadata": {
        "id": "3de34721",
        "outputId": "fbbcac95-5153-4d16-bb89-4c6cc2edfb31"
      },
      "outputs": [
        {
          "data": {
            "text/plain": [
              "True"
            ]
          },
          "execution_count": 35,
          "metadata": {},
          "output_type": "execute_result"
        }
      ],
      "source": [
        "bool(\"0\")"
      ]
    },
    {
      "cell_type": "code",
      "execution_count": null,
      "id": "ea93b188",
      "metadata": {
        "id": "ea93b188",
        "outputId": "67408ec4-d36f-417d-e09d-e7543a1d6d76"
      },
      "outputs": [
        {
          "data": {
            "text/plain": [
              "False"
            ]
          },
          "execution_count": 36,
          "metadata": {},
          "output_type": "execute_result"
        }
      ],
      "source": [
        "bool(\"\")"
      ]
    },
    {
      "cell_type": "code",
      "execution_count": null,
      "id": "180bd374",
      "metadata": {
        "id": "180bd374",
        "outputId": "a1ab1d1c-c1d2-4e21-a319-2eafb4415739"
      },
      "outputs": [
        {
          "data": {
            "text/plain": [
              "False"
            ]
          },
          "execution_count": 37,
          "metadata": {},
          "output_type": "execute_result"
        }
      ],
      "source": [
        "bool([])"
      ]
    },
    {
      "cell_type": "code",
      "execution_count": null,
      "id": "89cc1de3",
      "metadata": {
        "id": "89cc1de3",
        "outputId": "2e4fee30-c675-47ec-b2f7-dc765638e7ef"
      },
      "outputs": [
        {
          "data": {
            "text/plain": [
              "False"
            ]
          },
          "execution_count": 38,
          "metadata": {},
          "output_type": "execute_result"
        }
      ],
      "source": [
        "bool(())"
      ]
    },
    {
      "cell_type": "code",
      "execution_count": null,
      "id": "c46b66f6",
      "metadata": {
        "id": "c46b66f6",
        "outputId": "c21e923e-fad8-4e6f-882e-0369dff46fb7"
      },
      "outputs": [
        {
          "data": {
            "text/plain": [
              "False"
            ]
          },
          "execution_count": 39,
          "metadata": {},
          "output_type": "execute_result"
        }
      ],
      "source": [
        "bool({})"
      ]
    },
    {
      "cell_type": "code",
      "execution_count": null,
      "id": "7c4e98b6",
      "metadata": {
        "id": "7c4e98b6",
        "outputId": "2ab81825-527a-4a5a-bbcc-afd80d6becec"
      },
      "outputs": [
        {
          "data": {
            "text/plain": [
              "False"
            ]
          },
          "execution_count": 40,
          "metadata": {},
          "output_type": "execute_result"
        }
      ],
      "source": [
        "bool(0)"
      ]
    },
    {
      "cell_type": "code",
      "execution_count": null,
      "id": "efbf6e5e",
      "metadata": {
        "id": "efbf6e5e",
        "outputId": "54ebeba2-f314-43f0-cb7c-caa83d5d3c33"
      },
      "outputs": [
        {
          "data": {
            "text/plain": [
              "0"
            ]
          },
          "execution_count": 41,
          "metadata": {},
          "output_type": "execute_result"
        }
      ],
      "source": [
        "0 and None and 1"
      ]
    },
    {
      "cell_type": "code",
      "execution_count": null,
      "id": "11e5635c",
      "metadata": {
        "id": "11e5635c",
        "outputId": "b273a02a-c10d-47e2-bcec-e6994a31043f"
      },
      "outputs": [
        {
          "data": {
            "text/plain": [
              "False"
            ]
          },
          "execution_count": 42,
          "metadata": {},
          "output_type": "execute_result"
        }
      ],
      "source": [
        "False and False and True"
      ]
    },
    {
      "cell_type": "code",
      "execution_count": null,
      "id": "0a49b850",
      "metadata": {
        "id": "0a49b850",
        "outputId": "066efae3-3d55-4b4f-83b3-390a1b59c106"
      },
      "outputs": [
        {
          "data": {
            "text/plain": [
              "True"
            ]
          },
          "execution_count": 43,
          "metadata": {},
          "output_type": "execute_result"
        }
      ],
      "source": [
        "True or True or True"
      ]
    },
    {
      "cell_type": "code",
      "execution_count": null,
      "id": "9b07967e",
      "metadata": {
        "id": "9b07967e",
        "outputId": "3740e51f-2efe-4548-8538-1168e94c88ad"
      },
      "outputs": [
        {
          "data": {
            "text/plain": [
              "False"
            ]
          },
          "execution_count": 44,
          "metadata": {},
          "output_type": "execute_result"
        }
      ],
      "source": [
        "False or False or False"
      ]
    },
    {
      "cell_type": "code",
      "execution_count": null,
      "id": "8f065efd",
      "metadata": {
        "id": "8f065efd",
        "outputId": "7c66f1fb-ed4e-423b-80bf-01225bf9a058"
      },
      "outputs": [
        {
          "data": {
            "text/plain": [
              "''"
            ]
          },
          "execution_count": 45,
          "metadata": {},
          "output_type": "execute_result"
        }
      ],
      "source": [
        "0 or None or \"\""
      ]
    },
    {
      "cell_type": "code",
      "execution_count": null,
      "id": "445c3373",
      "metadata": {
        "id": "445c3373",
        "outputId": "3178d439-1fec-43e9-9746-942935b1a931"
      },
      "outputs": [
        {
          "data": {
            "text/plain": [
              "1"
            ]
          },
          "execution_count": 46,
          "metadata": {},
          "output_type": "execute_result"
        }
      ],
      "source": [
        "0 or 1 or 2 or \"\""
      ]
    },
    {
      "cell_type": "code",
      "execution_count": null,
      "id": "5d4215ef",
      "metadata": {
        "id": "5d4215ef",
        "outputId": "cd387278-ab08-4fb0-df77-13996229eda9"
      },
      "outputs": [
        {
          "data": {
            "text/plain": [
              "False"
            ]
          },
          "execution_count": 47,
          "metadata": {},
          "output_type": "execute_result"
        }
      ],
      "source": [
        "not 1"
      ]
    },
    {
      "cell_type": "code",
      "execution_count": null,
      "id": "6c6b0eca",
      "metadata": {
        "id": "6c6b0eca",
        "outputId": "8cbf01ec-5307-4e3d-9106-b5fdb8950350"
      },
      "outputs": [
        {
          "data": {
            "text/plain": [
              "True"
            ]
          },
          "execution_count": 48,
          "metadata": {},
          "output_type": "execute_result"
        }
      ],
      "source": [
        "not False"
      ]
    },
    {
      "cell_type": "code",
      "execution_count": null,
      "id": "096d842c",
      "metadata": {
        "id": "096d842c",
        "outputId": "229ffa79-5b3d-41df-f20d-74302c246a36"
      },
      "outputs": [
        {
          "data": {
            "text/plain": [
              "True"
            ]
          },
          "execution_count": 49,
          "metadata": {},
          "output_type": "execute_result"
        }
      ],
      "source": [
        "not 0"
      ]
    },
    {
      "cell_type": "code",
      "execution_count": null,
      "id": "4e3908f5",
      "metadata": {
        "id": "4e3908f5"
      },
      "outputs": [],
      "source": [
        "string_karakterler = \"&% , ali deli veli-1234\""
      ]
    },
    {
      "cell_type": "code",
      "execution_count": null,
      "id": "581acaa2",
      "metadata": {
        "id": "581acaa2",
        "outputId": "7d8b971d-6059-4307-f2ae-8f95e3035174"
      },
      "outputs": [
        {
          "data": {
            "text/plain": [
              "'&% , ali deli veli-1234'"
            ]
          },
          "execution_count": 52,
          "metadata": {},
          "output_type": "execute_result"
        }
      ],
      "source": [
        "string_karakterler"
      ]
    },
    {
      "cell_type": "code",
      "execution_count": null,
      "id": "b8d52758",
      "metadata": {
        "id": "b8d52758",
        "outputId": "16bd4591-a626-499d-be31-23ffe78597d7"
      },
      "outputs": [
        {
          "data": {
            "text/plain": [
              "'&'"
            ]
          },
          "execution_count": 53,
          "metadata": {},
          "output_type": "execute_result"
        }
      ],
      "source": [
        "string_karakterler[0]"
      ]
    },
    {
      "cell_type": "code",
      "execution_count": null,
      "id": "9dbacca4",
      "metadata": {
        "id": "9dbacca4",
        "outputId": "96e6807a-142a-4cf8-d5ff-ed4b94437d1a"
      },
      "outputs": [
        {
          "data": {
            "text/plain": [
              "'s'"
            ]
          },
          "execution_count": 54,
          "metadata": {},
          "output_type": "execute_result"
        }
      ],
      "source": [
        "\"clarus\"[5]"
      ]
    },
    {
      "cell_type": "code",
      "execution_count": null,
      "id": "95737fd6",
      "metadata": {
        "id": "95737fd6"
      },
      "outputs": [],
      "source": [
        "okul = \"clarus\""
      ]
    },
    {
      "cell_type": "code",
      "execution_count": null,
      "id": "90b06088",
      "metadata": {
        "id": "90b06088",
        "outputId": "04e35782-5c7e-47de-be84-b77afdde0fc2"
      },
      "outputs": [
        {
          "data": {
            "text/plain": [
              "'clarus'"
            ]
          },
          "execution_count": 57,
          "metadata": {},
          "output_type": "execute_result"
        }
      ],
      "source": [
        "okul"
      ]
    },
    {
      "cell_type": "code",
      "execution_count": null,
      "id": "120e41b8",
      "metadata": {
        "id": "120e41b8",
        "outputId": "7313d5f1-19dc-48d0-c770-3742e64f37d0"
      },
      "outputs": [
        {
          "data": {
            "text/plain": [
              "'s'"
            ]
          },
          "execution_count": 56,
          "metadata": {},
          "output_type": "execute_result"
        }
      ],
      "source": [
        "okul[5]"
      ]
    },
    {
      "cell_type": "code",
      "execution_count": null,
      "id": "587002ee",
      "metadata": {
        "id": "587002ee",
        "outputId": "e18b3d51-8362-4920-d0b6-5bc16e46880c"
      },
      "outputs": [
        {
          "data": {
            "text/plain": [
              "'ar'"
            ]
          },
          "execution_count": 58,
          "metadata": {},
          "output_type": "execute_result"
        }
      ],
      "source": [
        "okul[2:4]"
      ]
    },
    {
      "cell_type": "code",
      "execution_count": null,
      "id": "3b097dd8",
      "metadata": {
        "id": "3b097dd8",
        "outputId": "a3cd14ce-bccb-4115-a300-c22cc90f3ece"
      },
      "outputs": [
        {
          "data": {
            "text/plain": [
              "'cla'"
            ]
          },
          "execution_count": 59,
          "metadata": {},
          "output_type": "execute_result"
        }
      ],
      "source": [
        "okul[:3]"
      ]
    },
    {
      "cell_type": "code",
      "execution_count": null,
      "id": "4f7cc6d7",
      "metadata": {
        "id": "4f7cc6d7",
        "outputId": "8047a99d-1276-4058-92ff-a0515e642490"
      },
      "outputs": [
        {
          "data": {
            "text/plain": [
              "'clarus'"
            ]
          },
          "execution_count": 60,
          "metadata": {},
          "output_type": "execute_result"
        }
      ],
      "source": [
        "okul[:]"
      ]
    },
    {
      "cell_type": "code",
      "execution_count": null,
      "id": "35307a2a",
      "metadata": {
        "id": "35307a2a"
      },
      "outputs": [],
      "source": []
    },
    {
      "cell_type": "code",
      "execution_count": null,
      "id": "0d8f1b31",
      "metadata": {
        "id": "0d8f1b31"
      },
      "outputs": [],
      "source": []
    },
    {
      "cell_type": "code",
      "execution_count": null,
      "id": "9cf9c44f",
      "metadata": {
        "id": "9cf9c44f"
      },
      "outputs": [],
      "source": []
    }
  ],
  "metadata": {
    "kernelspec": {
      "display_name": "Python 3",
      "language": "python",
      "name": "python3"
    },
    "language_info": {
      "codemirror_mode": {
        "name": "ipython",
        "version": 3
      },
      "file_extension": ".py",
      "mimetype": "text/x-python",
      "name": "python",
      "nbconvert_exporter": "python",
      "pygments_lexer": "ipython3",
      "version": "3.8.8"
    },
    "colab": {
      "provenance": [],
      "include_colab_link": true
    }
  },
  "nbformat": 4,
  "nbformat_minor": 5
}