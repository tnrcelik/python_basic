{
  "cells": [
    {
      "cell_type": "markdown",
      "metadata": {
        "id": "view-in-github",
        "colab_type": "text"
      },
      "source": [
        "<a href=\"https://colab.research.google.com/github/tnrcelik/python_basic/blob/main/7_March_Python.ipynb\" target=\"_parent\"><img src=\"https://colab.research.google.com/assets/colab-badge.svg\" alt=\"Open In Colab\"/></a>"
      ]
    },
    {
      "cell_type": "markdown",
      "id": "6724fd78",
      "metadata": {
        "id": "6724fd78"
      },
      "source": [
        "## Armstrong Numbers"
      ]
    },
    {
      "cell_type": "code",
      "execution_count": null,
      "id": "d192d2f3",
      "metadata": {
        "id": "d192d2f3",
        "outputId": "5ca2c7ed-6470-4674-ff1a-604d7ee41ae2"
      },
      "outputs": [
        {
          "data": {
            "text/plain": [
              "False"
            ]
          },
          "execution_count": 3,
          "metadata": {},
          "output_type": "execute_result"
        }
      ],
      "source": [
        "\"123,123\".isdigit()"
      ]
    },
    {
      "cell_type": "code",
      "execution_count": null,
      "id": "793861e7",
      "metadata": {
        "id": "793861e7",
        "outputId": "b05fc458-925d-4320-fee1-8390eba0f91f"
      },
      "outputs": [
        {
          "name": "stdout",
          "output_type": "stream",
          "text": [
            "Enter a positive integer number : 12581203891271312\n",
            "12581203891271312  is not an Armstrong Number.\n"
          ]
        }
      ],
      "source": [
        "while True :\n",
        "    \n",
        "    number = input(\"Enter a positive integer number : \")\n",
        "    digits = len(number)\n",
        "    summ = 0\n",
        "    \n",
        "    if not number.isdigit() :\n",
        "        \n",
        "        print(number, \"is invalid entry. Please enter valid input.\")\n",
        "    \n",
        "    elif int(number) >= 0 :   # elif yerine else de kullanabiliriz.\n",
        "        \n",
        "        for i in range(digits) :\n",
        "            \n",
        "            summ += int(number[i]) ** digits\n",
        "            \n",
        "        if summ == int(number) :\n",
        "            print(number, \" is an Armstrong Number.\")\n",
        "            break\n",
        "        else :\n",
        "            print(number, \" is not an Armstrong Number.\")\n",
        "            break"
      ]
    },
    {
      "cell_type": "markdown",
      "id": "cd475692",
      "metadata": {
        "id": "cd475692"
      },
      "source": [
        "#  Is it a Prime Number"
      ]
    },
    {
      "cell_type": "code",
      "execution_count": null,
      "id": "4ab94f17",
      "metadata": {
        "id": "4ab94f17",
        "outputId": "6d953e07-c31e-4549-a00e-1e7b605ba690"
      },
      "outputs": [
        {
          "name": "stdout",
          "output_type": "stream",
          "text": [
            "Enter a positive int number to check if it is a Prime Number : 11\n",
            "11  is a Prime Number.\n"
          ]
        }
      ],
      "source": [
        "n = int(input(\"Enter a positive int number to check if it is a Prime Number : \"))\n",
        "\n",
        "counter = 0\n",
        "\n",
        "for i in range(1, n+1) :\n",
        "    if n % i == 0:\n",
        "        counter += 1\n",
        "if (n == 0) or (n == 1) or (counter >= 3):\n",
        "    print(n, \" is not a Prime Number.\")\n",
        "\n",
        "else : \n",
        "    print(n, \" is a Prime Number.\")"
      ]
    },
    {
      "cell_type": "markdown",
      "id": "7e2e2532",
      "metadata": {
        "id": "7e2e2532"
      },
      "source": [
        "# List Comprehension"
      ]
    },
    {
      "cell_type": "markdown",
      "id": "9c929b64",
      "metadata": {
        "id": "9c929b64"
      },
      "source": [
        "## List Comprehension'ların Temel Yapısı"
      ]
    },
    {
      "cell_type": "markdown",
      "id": "e5e53248",
      "metadata": {
        "id": "e5e53248"
      },
      "source": [
        "```python\n",
        "\n",
        "for item in iterabe :\n",
        "    expression\n",
        "\n",
        "[expression for item in iterable]\n",
        "\n",
        "``` \n"
      ]
    },
    {
      "cell_type": "markdown",
      "id": "aff0f904",
      "metadata": {
        "id": "aff0f904"
      },
      "source": [
        "**********FOR DÖNGÜSÜ:*********\n",
        "- For döngüsü, bir dizi üzerinde yineleme (iterasyon) yapmak için kullanılır (bu, bir liste, bir tuple, bir dictionary, bir   set veya bir string olabilir)\n",
        "- For döngüsüyle, bir liste, tuple, set vb. içindeki her öğe için bir kez olmak üzere bir kod bloğu çalıştırabiliriz.\n",
        "- For döngüsü önceden ayarlamak için (while döngüsündeki gibi) bir indeksleme değişkeni gerektirmez\n",
        "- String'ler de iterable nesnelerdir, bir dizi karakter içerirler."
      ]
    },
    {
      "cell_type": "markdown",
      "id": "9b2c8320",
      "metadata": {
        "id": "9b2c8320"
      },
      "source": [
        "*****************LIST COMPREHENSION da:***************\n",
        "- For döngüsünün her iterasyonundan gelen i değişkeni, list comprehension'un en başında yazdığımız işleme tabi tutulup        listenin bir elemanı olarak yerini alır. Bu işlem, değişkenin kendisi olabileceği gibi kendisiyle çarpımı, karesiyle        çarpımı, cosinüsü gibi herhangi bir işlem de olabilir.\n",
        "- Daha az yer kaplar daha az bilgisayarı yorar ve daha az satırda yazmış oluruz."
      ]
    },
    {
      "cell_type": "code",
      "execution_count": null,
      "id": "5a32b972",
      "metadata": {
        "id": "5a32b972",
        "outputId": "8219ddb7-932b-4efd-b7e3-cc31b902b7ca"
      },
      "outputs": [
        {
          "name": "stdout",
          "output_type": "stream",
          "text": [
            "[0]\n",
            "[0, 1]\n",
            "[0, 1, 2]\n",
            "[0, 1, 2, 3]\n",
            "[0, 1, 2, 3, 4]\n"
          ]
        }
      ],
      "source": [
        "sayilar =[]\n",
        "\n",
        "for i in range(5) :\n",
        "    sayilar.append(i)\n",
        "    print(sayilar)    "
      ]
    },
    {
      "cell_type": "code",
      "execution_count": null,
      "id": "91a7ff91",
      "metadata": {
        "id": "91a7ff91",
        "outputId": "609069df-8d81-4241-e788-1e5ac9841b44"
      },
      "outputs": [
        {
          "data": {
            "text/plain": [
              "[0, 1, 2, 3, 4]"
            ]
          },
          "execution_count": 18,
          "metadata": {},
          "output_type": "execute_result"
        }
      ],
      "source": [
        "sayilar1 = [i for i in range(5)]\n",
        "sayilar1"
      ]
    },
    {
      "cell_type": "code",
      "execution_count": null,
      "id": "3b9a0a70",
      "metadata": {
        "id": "3b9a0a70",
        "outputId": "c84bc219-cde2-4eda-f6e4-662c5182b89e"
      },
      "outputs": [
        {
          "data": {
            "text/plain": [
              "[0, 1, 4, 9, 16]"
            ]
          },
          "execution_count": 20,
          "metadata": {},
          "output_type": "execute_result"
        }
      ],
      "source": [
        "sayilar2 = [i**2 for i in range(5)]          # i**2 veya i*i olabilir aynı şeyler...\n",
        "sayilar2"
      ]
    },
    {
      "cell_type": "code",
      "execution_count": null,
      "id": "ef489623",
      "metadata": {
        "id": "ef489623",
        "outputId": "b44f7cf2-ded6-4b37-ff39-823688ae1477"
      },
      "outputs": [
        {
          "data": {
            "text/plain": [
              "[0, 2, 4, 6, 8]"
            ]
          },
          "execution_count": 21,
          "metadata": {},
          "output_type": "execute_result"
        }
      ],
      "source": [
        "[i+i for i in range(5)]"
      ]
    },
    {
      "cell_type": "markdown",
      "id": "9de5872c",
      "metadata": {
        "id": "9de5872c"
      },
      "source": [
        "*******************Ternary if statement*************\n",
        "- Tek satırlı if else li yapılar"
      ]
    },
    {
      "cell_type": "code",
      "execution_count": null,
      "id": "4b4774a5",
      "metadata": {
        "id": "4b4774a5"
      },
      "outputs": [],
      "source": [
        "my_list = [1, 2, 3, 4, 5, 6]"
      ]
    },
    {
      "cell_type": "code",
      "execution_count": null,
      "id": "bd63bfbe",
      "metadata": {
        "id": "bd63bfbe"
      },
      "outputs": [],
      "source": [
        " new_list = [] # tek olan elemanların karesini bu listenin içinde topla"
      ]
    },
    {
      "cell_type": "code",
      "execution_count": null,
      "id": "77bdd893",
      "metadata": {
        "id": "77bdd893"
      },
      "outputs": [],
      "source": [
        "for i in my_list :\n",
        "    if i % 2 :   # Eğer 0 gelirse çift olur ve if e girmez ama 1 olursa if'e girer bu da bize tek sayıları seçme imkanı verir.\n",
        "        new_list.append(i ** 2)\n",
        "    "
      ]
    },
    {
      "cell_type": "code",
      "execution_count": null,
      "id": "3589ac32",
      "metadata": {
        "id": "3589ac32",
        "outputId": "171cad1f-99b3-4cbc-b0a6-7b4159ed7bbe"
      },
      "outputs": [
        {
          "data": {
            "text/plain": [
              "[1, 9, 25]"
            ]
          },
          "execution_count": 26,
          "metadata": {},
          "output_type": "execute_result"
        }
      ],
      "source": [
        "new_list"
      ]
    },
    {
      "cell_type": "markdown",
      "id": "44900dbb",
      "metadata": {
        "id": "44900dbb"
      },
      "source": [
        "Ternary Yapıların Formulasyonu :\n",
        "\n",
        "```python\n",
        "if condition :   # normal if else yapısı\n",
        "    execute-body1\n",
        "else :\n",
        "    execute-body2\n",
        "    \n",
        "execute-body1 if condition else execute-body2   # bu da ternary yapısı...\n",
        "\n",
        "```"
      ]
    },
    {
      "cell_type": "code",
      "execution_count": null,
      "id": "e8f86d1b",
      "metadata": {
        "id": "e8f86d1b",
        "outputId": "6f5d1610-cdc1-4aa0-da51-ac923481cfda"
      },
      "outputs": [
        {
          "name": "stdout",
          "output_type": "stream",
          "text": [
            "1\n"
          ]
        }
      ],
      "source": [
        "condition = True\n",
        "\n",
        "if condition :\n",
        "    a = 1\n",
        "else :\n",
        "    a = 0\n",
        "print(a)"
      ]
    },
    {
      "cell_type": "code",
      "execution_count": null,
      "id": "94d83257",
      "metadata": {
        "id": "94d83257",
        "outputId": "307a1044-96a2-4fb9-a54b-e53d809baf8a"
      },
      "outputs": [
        {
          "data": {
            "text/plain": [
              "1"
            ]
          },
          "execution_count": 28,
          "metadata": {},
          "output_type": "execute_result"
        }
      ],
      "source": [
        "1 if condition else 0   # condition True olduğu için soldaki değer 1 i döndürür."
      ]
    },
    {
      "cell_type": "code",
      "execution_count": null,
      "id": "c3cb9db3",
      "metadata": {
        "id": "c3cb9db3",
        "outputId": "8d2fdd8b-362d-449d-a3f0-0d29812b80c1"
      },
      "outputs": [
        {
          "ename": "SyntaxError",
          "evalue": "cannot assign to conditional expression (<ipython-input-29-fecd2cdf804e>, line 1)",
          "output_type": "error",
          "traceback": [
            "\u001b[1;36m  File \u001b[1;32m\"<ipython-input-29-fecd2cdf804e>\"\u001b[1;36m, line \u001b[1;32m1\u001b[0m\n\u001b[1;33m    a = 1 if condition else a=0\u001b[0m\n\u001b[1;37m        ^\u001b[0m\n\u001b[1;31mSyntaxError\u001b[0m\u001b[1;31m:\u001b[0m cannot assign to conditional expression\n"
          ]
        }
      ],
      "source": [
        "a = 1 if condition else a=0   # atama yapılamıyor."
      ]
    },
    {
      "cell_type": "code",
      "execution_count": null,
      "id": "dbfbfe40",
      "metadata": {
        "id": "dbfbfe40",
        "outputId": "db2a354c-352a-463b-b787-5eba5a77c553"
      },
      "outputs": [
        {
          "data": {
            "text/plain": [
              "[1, 2, 3, 4, 5, 6]"
            ]
          },
          "execution_count": 30,
          "metadata": {},
          "output_type": "execute_result"
        }
      ],
      "source": [
        "my_list"
      ]
    },
    {
      "cell_type": "code",
      "execution_count": null,
      "id": "d5811429",
      "metadata": {
        "id": "d5811429",
        "outputId": "c39b8feb-8056-4143-8154-551a0698c75e"
      },
      "outputs": [
        {
          "data": {
            "text/plain": [
              "[1, 4, 9, 16, 25, 36]"
            ]
          },
          "execution_count": 31,
          "metadata": {},
          "output_type": "execute_result"
        }
      ],
      "source": [
        "[i ** 2 for i in my_list]"
      ]
    },
    {
      "cell_type": "code",
      "execution_count": null,
      "id": "47225b38",
      "metadata": {
        "id": "47225b38",
        "outputId": "dcad6365-3ef6-44f3-845b-baf3b3dd4226"
      },
      "outputs": [
        {
          "data": {
            "text/plain": [
              "[1, 9, 25]"
            ]
          },
          "execution_count": 32,
          "metadata": {},
          "output_type": "execute_result"
        }
      ],
      "source": [
        "[i ** 2 for i in my_list if i % 2]  # tekleri seçiyor"
      ]
    },
    {
      "cell_type": "code",
      "execution_count": null,
      "id": "273e57ef",
      "metadata": {
        "id": "273e57ef",
        "outputId": "4d64301e-d8b2-4432-cc1e-4b6748d81579"
      },
      "outputs": [
        {
          "data": {
            "text/plain": [
              "[4, 16, 36]"
            ]
          },
          "execution_count": 35,
          "metadata": {},
          "output_type": "execute_result"
        }
      ],
      "source": [
        "çiftler = [i ** 2 for i in my_list if not i % 2] \n",
        "çiftler"
      ]
    },
    {
      "cell_type": "markdown",
      "id": "d1dc9512",
      "metadata": {
        "id": "d1dc9512"
      },
      "source": [
        "*********Generatör*************\n",
        "- Generatörler de iteratörler gibi __next__() fonksiyonuna sahiptir ve bu sayede iterasyon işlemine tabi tutulabilirler.\n",
        "- Generatörlerin iteratörlerden farkı ise lazy evaluation yapmalarıdır.\n",
        "- Bir objeyi itere etmek istediğinizde liste elemanları ile birlikte itere edilmeye hazırdır ve sırası ile bu elemanları     çağırarak işlem yapmaya başlarsınız. \n",
        "- Generatörlerde elinizde iterasyona tabi tutacağınız elemanlar halihazırda mevcut       değildir, siz bir sonrakini         çağırdığınız zaman üretilir ve size sunulur\n",
        "- Python'daki generator'lar, farklı bir çeşit iterable'dır.\n",
        "- Bunların diğer iterable'lardan farklarından biri, bunların tek kullanımlık olmasıdır.\n",
        "- Örneğin, bir listeyi istediğiniz kadar for döngüsünde kullanabilirsiniz, ancak, bir generator'u yalnız bir kere for         döngüsünde kullanabilirsiniz.\n",
        "- Bunların bir diğer önemli farkı ise, tüm elemanların hafızada tutulmaması. Generatorlar, sırası gelen elemanı üretip       döndürür, daha sonra da bu elemanı unuturlar. (edited) "
      ]
    },
    {
      "cell_type": "code",
      "execution_count": null,
      "id": "0c061b3e",
      "metadata": {
        "id": "0c061b3e",
        "outputId": "ff084612-62b1-4782-eeb1-165363b4e9c1"
      },
      "outputs": [
        {
          "data": {
            "text/plain": [
              "<generator object <genexpr> at 0x000001F4D500E270>"
            ]
          },
          "execution_count": 36,
          "metadata": {},
          "output_type": "execute_result"
        }
      ],
      "source": [
        "(i ** 2 for i in range(6))   # sadece bir adres veriyor. Bir generator oluşturuyor."
      ]
    },
    {
      "cell_type": "code",
      "execution_count": null,
      "id": "dbc482b7",
      "metadata": {
        "id": "dbc482b7",
        "outputId": "1e60bf55-fd2a-4fbf-8d28-932778122804"
      },
      "outputs": [
        {
          "data": {
            "text/plain": [
              "[0, 1, 4, 9, 16, 25]"
            ]
          },
          "execution_count": 37,
          "metadata": {},
          "output_type": "execute_result"
        }
      ],
      "source": [
        "generator = (i ** 2 for i in range(6))  \n",
        "list(generator) # generator un içeriğini aldık"
      ]
    },
    {
      "cell_type": "code",
      "execution_count": null,
      "id": "2588c8ee",
      "metadata": {
        "id": "2588c8ee"
      },
      "outputs": [],
      "source": [
        "generator = (i ** 2 for i in range(6))  "
      ]
    },
    {
      "cell_type": "code",
      "execution_count": null,
      "id": "a8aff581",
      "metadata": {
        "id": "a8aff581",
        "outputId": "729dbcff-9807-40c5-f889-4dd0eed80f1d"
      },
      "outputs": [
        {
          "name": "stdout",
          "output_type": "stream",
          "text": [
            "0\n",
            "1\n",
            "4\n",
            "9\n",
            "16\n",
            "25\n"
          ]
        }
      ],
      "source": [
        "for i in generator:\n",
        "    print(i)"
      ]
    },
    {
      "cell_type": "code",
      "execution_count": null,
      "id": "451c713c",
      "metadata": {
        "id": "451c713c"
      },
      "outputs": [],
      "source": [
        "generator = (i ** 2 for i in range(6))"
      ]
    },
    {
      "cell_type": "code",
      "execution_count": null,
      "id": "c866c835",
      "metadata": {
        "id": "c866c835",
        "outputId": "f7a3fc1f-0dcd-4350-9f10-d7a7a24e078c"
      },
      "outputs": [
        {
          "data": {
            "text/plain": [
              "<generator object <genexpr> at 0x000001F4D4F1DEB0>"
            ]
          },
          "execution_count": 42,
          "metadata": {},
          "output_type": "execute_result"
        }
      ],
      "source": [
        "generator"
      ]
    },
    {
      "cell_type": "code",
      "execution_count": null,
      "id": "5d2879da",
      "metadata": {
        "id": "5d2879da",
        "outputId": "89777779-a106-4a22-dee7-cc3d8e804c9a"
      },
      "outputs": [
        {
          "name": "stdout",
          "output_type": "stream",
          "text": [
            "0\n"
          ]
        }
      ],
      "source": [
        "print(next(generator))  # next aslında for döngüsünün arkasında çalışan komut. Sırasıyla iterable değişkeni dolaşıyor.\n",
        "                        # her kullanıldığında bir sonrakini alır."
      ]
    },
    {
      "cell_type": "code",
      "execution_count": null,
      "id": "868d2548",
      "metadata": {
        "id": "868d2548",
        "outputId": "074e15d1-495e-4db3-d9f6-19137b540b45"
      },
      "outputs": [
        {
          "name": "stdout",
          "output_type": "stream",
          "text": [
            "1\n"
          ]
        }
      ],
      "source": [
        "print(next(generator))"
      ]
    },
    {
      "cell_type": "code",
      "execution_count": null,
      "id": "0214a6e7",
      "metadata": {
        "id": "0214a6e7",
        "outputId": "0f515d46-0201-4a86-cb68-88e9d0ab38d6"
      },
      "outputs": [
        {
          "name": "stdout",
          "output_type": "stream",
          "text": [
            "4\n"
          ]
        }
      ],
      "source": [
        "print(next(generator))"
      ]
    },
    {
      "cell_type": "code",
      "execution_count": null,
      "id": "17b2fff7",
      "metadata": {
        "id": "17b2fff7",
        "outputId": "33875f49-af4e-48c9-c024-d34d3ccb1315"
      },
      "outputs": [
        {
          "name": "stdout",
          "output_type": "stream",
          "text": [
            "9\n"
          ]
        }
      ],
      "source": [
        "print(next(generator))"
      ]
    },
    {
      "cell_type": "code",
      "execution_count": null,
      "id": "b420d0b6",
      "metadata": {
        "id": "b420d0b6",
        "outputId": "766e18f3-57d7-43ec-ff1d-61e4248e678f"
      },
      "outputs": [
        {
          "name": "stdout",
          "output_type": "stream",
          "text": [
            "16\n"
          ]
        }
      ],
      "source": [
        "print(next(generator))"
      ]
    },
    {
      "cell_type": "code",
      "execution_count": null,
      "id": "7473ebd8",
      "metadata": {
        "id": "7473ebd8",
        "outputId": "f4871ab5-2f0a-4d43-921b-9a566fac948a"
      },
      "outputs": [
        {
          "name": "stdout",
          "output_type": "stream",
          "text": [
            "25\n"
          ]
        }
      ],
      "source": [
        "print(next(generator))"
      ]
    },
    {
      "cell_type": "code",
      "execution_count": null,
      "id": "ed41b08a",
      "metadata": {
        "id": "ed41b08a",
        "outputId": "98691f1c-e822-49db-bf31-92462aa00c89"
      },
      "outputs": [
        {
          "ename": "StopIteration",
          "evalue": "",
          "output_type": "error",
          "traceback": [
            "\u001b[1;31m---------------------------------------------------------------------------\u001b[0m",
            "\u001b[1;31mStopIteration\u001b[0m                             Traceback (most recent call last)",
            "\u001b[1;32m<ipython-input-49-19919da3e769>\u001b[0m in \u001b[0;36m<module>\u001b[1;34m\u001b[0m\n\u001b[1;32m----> 1\u001b[1;33m \u001b[0mprint\u001b[0m\u001b[1;33m(\u001b[0m\u001b[0mnext\u001b[0m\u001b[1;33m(\u001b[0m\u001b[0mgenerator\u001b[0m\u001b[1;33m)\u001b[0m\u001b[1;33m)\u001b[0m\u001b[1;33m\u001b[0m\u001b[1;33m\u001b[0m\u001b[0m\n\u001b[0m",
            "\u001b[1;31mStopIteration\u001b[0m: "
          ]
        }
      ],
      "source": [
        "print(next(generator))  # generator'un elemanları bittiği için hata veriyor."
      ]
    },
    {
      "cell_type": "code",
      "execution_count": null,
      "id": "1f36fb0a",
      "metadata": {
        "id": "1f36fb0a",
        "outputId": "8a1087cf-3f03-4b36-9acf-e0d21b7eca18"
      },
      "outputs": [
        {
          "name": "stdout",
          "output_type": "stream",
          "text": [
            "\n"
          ]
        }
      ],
      "source": [
        "print(*generator)   # olmuyor..."
      ]
    },
    {
      "cell_type": "code",
      "execution_count": null,
      "id": "93939ff2",
      "metadata": {
        "id": "93939ff2",
        "outputId": "524126b1-28b5-4320-e927-60311fe7b341"
      },
      "outputs": [
        {
          "name": "stdout",
          "output_type": "stream",
          "text": [
            "cc\n",
            "ll\n",
            "aa\n",
            "rr\n",
            "uu\n",
            "ss\n",
            "ww\n",
            "aa\n",
            "yy\n"
          ]
        }
      ],
      "source": [
        "harfler = (i*2 for i in \"clarusway\")  # c*2 = cc  string olduğu için concatenate olur.\n",
        "for i in harfler :\n",
        "    print(i)"
      ]
    },
    {
      "cell_type": "markdown",
      "id": "71367326",
      "metadata": {
        "id": "71367326"
      },
      "source": [
        "************ Python Plus Ders Programı ********\n",
        "- Functions\n",
        "- Modules & Packages\n",
        "- Working with Files\n",
        "- Errors & Exceptions Handling"
      ]
    },
    {
      "cell_type": "markdown",
      "id": "95629fa0",
      "metadata": {
        "id": "95629fa0"
      },
      "source": [
        "********* Functions *************\n",
        "- Belirli inputları alan almasada olur bizim için belli adımları yapan sonrasında çıktı veren yapılardır.\n",
        "- Hazır fonksiyonlar var (print, max vs..) def ile kendimize özel fonksiyon tanımlayabiliriz.\n",
        "- Tekrar eden kod bloklarını fonksiyon yaparak karmaşıklığı giderebiliriz. Fonksiyonları birden fazla kez çağırabiliriz.\n",
        "- Fonksiyonu çağırmak (Calling a Function) aslında onu çalıştırmak demektir.\n",
        "- Çağırma => fonksiyonadı(arguman) argumanları tanımlarken adı değişken oluyor.Çağırırken arguman oluyor.\n",
        "- Fonksiyon tanımlama => def fonksiyonadı(arguman veya argumanlar) :\n",
        "                             body\n",
        "- Build-in functions incele!!!!! ( lastest version Python 3.9.1 ) "
      ]
    },
    {
      "cell_type": "code",
      "execution_count": null,
      "id": "62a5ca44",
      "metadata": {
        "id": "62a5ca44"
      },
      "outputs": [],
      "source": []
    },
    {
      "cell_type": "code",
      "execution_count": null,
      "id": "4f3325c4",
      "metadata": {
        "id": "4f3325c4"
      },
      "outputs": [],
      "source": []
    },
    {
      "cell_type": "code",
      "execution_count": null,
      "id": "51361536",
      "metadata": {
        "id": "51361536"
      },
      "outputs": [],
      "source": []
    },
    {
      "cell_type": "code",
      "execution_count": null,
      "id": "2d3a81f1",
      "metadata": {
        "id": "2d3a81f1"
      },
      "outputs": [],
      "source": []
    },
    {
      "cell_type": "code",
      "execution_count": null,
      "id": "1ea24f61",
      "metadata": {
        "id": "1ea24f61"
      },
      "outputs": [],
      "source": []
    }
  ],
  "metadata": {
    "kernelspec": {
      "display_name": "Python 3",
      "language": "python",
      "name": "python3"
    },
    "language_info": {
      "codemirror_mode": {
        "name": "ipython",
        "version": 3
      },
      "file_extension": ".py",
      "mimetype": "text/x-python",
      "name": "python",
      "nbconvert_exporter": "python",
      "pygments_lexer": "ipython3",
      "version": "3.8.8"
    },
    "colab": {
      "provenance": [],
      "include_colab_link": true
    }
  },
  "nbformat": 4,
  "nbformat_minor": 5
}