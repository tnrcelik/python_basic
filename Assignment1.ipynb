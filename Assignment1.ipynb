{
  "nbformat": 4,
  "nbformat_minor": 0,
  "metadata": {
    "colab": {
      "provenance": [],
      "authorship_tag": "ABX9TyN3mEkDXTV8J1JS0+0RaUvT",
      "include_colab_link": true
    },
    "kernelspec": {
      "name": "python3",
      "display_name": "Python 3"
    },
    "language_info": {
      "name": "python"
    }
  },
  "cells": [
    {
      "cell_type": "markdown",
      "metadata": {
        "id": "view-in-github",
        "colab_type": "text"
      },
      "source": [
        "<a href=\"https://colab.research.google.com/github/tnrcelik/python_basic/blob/main/Assignment1.ipynb\" target=\"_parent\"><img src=\"https://colab.research.google.com/assets/colab-badge.svg\" alt=\"Open In Colab\"/></a>"
      ]
    },
    {
      "cell_type": "code",
      "execution_count": null,
      "metadata": {
        "id": "Ax9T7mxkCv_2"
      },
      "outputs": [],
      "source": [
        "\n"
      ]
    },
    {
      "cell_type": "markdown",
      "source": [
        "Problem : If you had deposited a coin on the cryptocurrency exchange that brought 7% fixed profit daily for a week, how much would your $ 1000 reach at the end of the 7th day?"
      ],
      "metadata": {
        "id": "qJlwD6lcC6n4"
      }
    },
    {
      "cell_type": "code",
      "source": [
        "x = 1000\n",
        "interest = 0.07\n",
        "\n",
        "x = (x * interest) + x\n",
        "x = (x * interest) + x\n",
        "x"
      ],
      "metadata": {
        "colab": {
          "base_uri": "https://localhost:8080/"
        },
        "id": "4F8u2tV0C7u-",
        "outputId": "657b69a6-32e3-4314-cff6-782faa8b56c8"
      },
      "execution_count": null,
      "outputs": [
        {
          "output_type": "execute_result",
          "data": {
            "text/plain": [
              "1144.9"
            ]
          },
          "metadata": {},
          "execution_count": 9
        }
      ]
    },
    {
      "cell_type": "code",
      "source": [
        "y = 1000\n",
        "d = 7\n",
        "interest = 0.07\n",
        "\n",
        "interest = y * (1 + interest)**d - y\n",
        "z = interest + y\n",
        "z"
      ],
      "metadata": {
        "colab": {
          "base_uri": "https://localhost:8080/"
        },
        "id": "ZzDqJjD2G7dP",
        "outputId": "970a1802-e8f9-4863-bc12-a02924f9bf0c"
      },
      "execution_count": null,
      "outputs": [
        {
          "output_type": "execute_result",
          "data": {
            "text/plain": [
              "1605.7814764784307"
            ]
          },
          "metadata": {},
          "execution_count": 59
        }
      ]
    },
    {
      "cell_type": "code",
      "source": [
        "text = \"Clarusway, \\b Clarusway, \\b Clarusway,\\n\\tClarusway, Clarusway, Clarusway, \\n\\t\\tClarusway, Clarusway, Clarusway\"\n",
        "\n",
        "print(text)"
      ],
      "metadata": {
        "id": "gOdvxpj1Io3q",
        "colab": {
          "base_uri": "https://localhost:8080/"
        },
        "outputId": "bb51fbf4-081c-47ca-b872-5a6300347013"
      },
      "execution_count": null,
      "outputs": [
        {
          "output_type": "stream",
          "name": "stdout",
          "text": [
            "Clarusway, \b Clarusway, \b Clarusway,\n",
            "\tClarusway, Clarusway, Clarusway, \n",
            "\t\tClarusway, Clarusway, Clarusway\n"
          ]
        }
      ]
    },
    {
      "cell_type": "code",
      "source": [
        "text = 'Clarusway, Clarusway, Clarusway, \\n \\t Clarusway, Clarusway, Clarusway, \\n \\t\\t Clarusway, Clarusway, Clarusway'\n",
        "\n",
        "print(text)"
      ],
      "metadata": {
        "colab": {
          "base_uri": "https://localhost:8080/"
        },
        "id": "7lJf0oGgOw2L",
        "outputId": "70b6268d-4191-4c21-9019-409cf025a50c"
      },
      "execution_count": null,
      "outputs": [
        {
          "output_type": "stream",
          "name": "stdout",
          "text": [
            "Clarusway, Clarusway, Clarusway, \n",
            " \t Clarusway, Clarusway, Clarusway, \n",
            " \t\t Clarusway, Clarusway, Clarusway\n"
          ]
        }
      ]
    },
    {
      "cell_type": "code",
      "source": [
        ">>> text = 'Clarusway, Clarusway, Clarusway, \\n \\t Clarusway, Clarusway, Clarusway, \\n \\t\\t Clarusway, Clarusway, Clarusway'\n",
        ">>> print(text)"
      ],
      "metadata": {
        "id": "hJWWyH-SIZEh",
        "colab": {
          "base_uri": "https://localhost:8080/"
        },
        "outputId": "c431bb82-6126-4a6d-de45-0f932753ac4c"
      },
      "execution_count": null,
      "outputs": [
        {
          "output_type": "stream",
          "name": "stdout",
          "text": [
            "Clarusway, Clarusway, Clarusway, \n",
            " \t Clarusway, Clarusway, Clarusway, \n",
            " \t\t Clarusway, Clarusway, Clarusway\n"
          ]
        }
      ]
    },
    {
      "cell_type": "code",
      "source": [],
      "metadata": {
        "id": "13-RNLU2GxQu"
      },
      "execution_count": null,
      "outputs": []
    },
    {
      "cell_type": "code",
      "source": [],
      "metadata": {
        "id": "FM7UHdQcEGdS"
      },
      "execution_count": null,
      "outputs": []
    },
    {
      "cell_type": "code",
      "source": [],
      "metadata": {
        "id": "IWqF1opyEFEJ"
      },
      "execution_count": null,
      "outputs": []
    },
    {
      "cell_type": "code",
      "source": [],
      "metadata": {
        "id": "WbSHOPWaEDI0"
      },
      "execution_count": null,
      "outputs": []
    },
    {
      "cell_type": "code",
      "source": [],
      "metadata": {
        "id": "q0xPFmOvD5_g"
      },
      "execution_count": null,
      "outputs": []
    },
    {
      "cell_type": "code",
      "source": [],
      "metadata": {
        "id": "0Wpkkko2D1Ds"
      },
      "execution_count": null,
      "outputs": []
    }
  ]
}