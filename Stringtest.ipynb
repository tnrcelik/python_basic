{
  "nbformat": 4,
  "nbformat_minor": 0,
  "metadata": {
    "colab": {
      "provenance": [],
      "collapsed_sections": [],
      "authorship_tag": "ABX9TyNlrcwNgqqDkOuVI4R7W86h",
      "include_colab_link": true
    },
    "kernelspec": {
      "name": "python3",
      "display_name": "Python 3"
    },
    "language_info": {
      "name": "python"
    }
  },
  "cells": [
    {
      "cell_type": "markdown",
      "metadata": {
        "id": "view-in-github",
        "colab_type": "text"
      },
      "source": [
        "<a href=\"https://colab.research.google.com/github/tnrcelik/python_basic/blob/main/Stringtest.ipynb\" target=\"_parent\"><img src=\"https://colab.research.google.com/assets/colab-badge.svg\" alt=\"Open In Colab\"/></a>"
      ]
    },
    {
      "cell_type": "code",
      "execution_count": null,
      "metadata": {
        "colab": {
          "base_uri": "https://localhost:8080/"
        },
        "id": "HaixZdaUNILB",
        "outputId": "61e4378c-e778-46f7-ae73-645d96efb86c"
      },
      "outputs": [
        {
          "output_type": "stream",
          "name": "stdout",
          "text": [
            "1375\n"
          ]
        }
      ],
      "source": [
        "text = \"\"\"The University of Hawaii began using radio to send digital information as early\n",
        "a Friedhelm Hillebrand conceptualised SMS in 1984 while working for Deutsche Telekom.\n",
        "Sitting Hillebrand typed out random sentences and counted every letter, number,\n",
        "punctuation, and sp Almost every time, the messages contained fewer than 160 characters,\n",
        "thus giving the basis limit one could type via text messaging. With Bernard Ghillebaert\n",
        "of France Télécom, he dev a proposal for the GSM (Groupe Spécial Mobile) meeting in\n",
        "February 1985 in Oslo.\n",
        "The first technical solution evolved in a GSM subgroup under the leadership of Finn\n",
        "Trosby. It was further developed under the leadership of Kevin Holley and Ian Harris (see\n",
        "Short Mes SMS forms an integral part of SS7 (Signalling System No. 7). under SS7, it is a\n",
        "\"state\" wit coded in the ITU-T \"T.56\" text format, that has a \"sequence lead in\" to\n",
        "determine different and may have special character codes that permits, for example,\n",
        "sending simple graphs as te This was part of ISDN (Integrated Services Digital Network)\n",
        "and since GSM is based on this, made its way to the mobile phone. Messages could be sent\n",
        "and received on ISDN phones,\n",
        "and these can send SMS to any GSM phone. The possibility of doing something is one thing,\n",
        "implementing it another, but systems existed from 1988 that sent SMS messages to mobile\n",
        "phophones (compare ND-NOTIS).\"\"\"\n",
        "\n",
        "# 1. How many characters in text?\n",
        "print(len(text))"
      ]
    },
    {
      "cell_type": "code",
      "source": [
        "# 2. How many words are there in the \"text\"?\n",
        "a = text.split()\n",
        "print(len(a))"
      ],
      "metadata": {
        "colab": {
          "base_uri": "https://localhost:8080/"
        },
        "id": "dAUE_rqxN4L1",
        "outputId": "e576764f-4bb9-4861-83b0-e526a3463c2f"
      },
      "execution_count": null,
      "outputs": [
        {
          "output_type": "stream",
          "name": "stdout",
          "text": [
            "228\n"
          ]
        }
      ]
    },
    {
      "cell_type": "code",
      "source": [
        "# 3. How many unique words in the \"text\"?\n",
        "unique = set(text.split())\n",
        "print(len(unique))\n"
      ],
      "metadata": {
        "colab": {
          "base_uri": "https://localhost:8080/"
        },
        "id": "FGn7lXPMObok",
        "outputId": "3b07d556-d20d-45dc-8095-bc1b2c0e1a01"
      },
      "execution_count": null,
      "outputs": [
        {
          "output_type": "stream",
          "name": "stdout",
          "text": [
            "165\n"
          ]
        }
      ]
    },
    {
      "cell_type": "code",
      "source": [
        "# 4. Find Lexical diversity (lexical_diversity = (number of words)/(number of unique words))\n",
        "\n",
        "lexical_diversity = round((len(text.split()) / len(unique)), 2)\n",
        "print(lexical_diversity)\n"
      ],
      "metadata": {
        "colab": {
          "base_uri": "https://localhost:8080/"
        },
        "id": "yGAxuC49OyOm",
        "outputId": "58079e7a-3fdf-4234-bc1a-84e80ad549be"
      },
      "execution_count": null,
      "outputs": [
        {
          "output_type": "stream",
          "name": "stdout",
          "text": [
            "1.38\n"
          ]
        }
      ]
    },
    {
      "cell_type": "code",
      "source": [
        "# 5. Count how many \"the\" in the text ?\n",
        "print(text.count(\"the\"))"
      ],
      "metadata": {
        "colab": {
          "base_uri": "https://localhost:8080/"
        },
        "id": "A_magrQlQ1gL",
        "outputId": "ad4a7466-b9eb-4dc7-d38e-0a5fb6760d7b"
      },
      "execution_count": null,
      "outputs": [
        {
          "output_type": "stream",
          "name": "stdout",
          "text": [
            "10\n"
          ]
        }
      ]
    },
    {
      "cell_type": "code",
      "source": [
        "# 6. Count how many \"a in text\" ? \n",
        "print(text.count(\"a\"))"
      ],
      "metadata": {
        "colab": {
          "base_uri": "https://localhost:8080/"
        },
        "id": "NHhDWoWkQ6Vb",
        "outputId": "5822044d-be5b-4b9e-ec3f-b8d00e5e4eb4"
      },
      "execution_count": null,
      "outputs": [
        {
          "output_type": "stream",
          "name": "stdout",
          "text": [
            "77\n"
          ]
        }
      ]
    },
    {
      "cell_type": "code",
      "source": [
        "# 7. Extract first 10 words in text ?\n",
        "print(a[:10])\n"
      ],
      "metadata": {
        "colab": {
          "base_uri": "https://localhost:8080/"
        },
        "id": "_O_jafCPRBEK",
        "outputId": "babaece9-24f9-46f4-93d5-a2c88e244643"
      },
      "execution_count": null,
      "outputs": [
        {
          "output_type": "stream",
          "name": "stdout",
          "text": [
            "['The', 'University', 'of', 'Hawaii', 'began', 'using', 'radio', 'to', 'send', 'digital']\n"
          ]
        }
      ]
    },
    {
      "cell_type": "code",
      "source": [
        "# 8. Extract Fourteen character (14) in text\n",
        "print(a[:15])"
      ],
      "metadata": {
        "colab": {
          "base_uri": "https://localhost:8080/"
        },
        "id": "xyXQJrf_RMtp",
        "outputId": "c65295a4-d5ce-444e-a363-7825012956ac"
      },
      "execution_count": null,
      "outputs": [
        {
          "output_type": "stream",
          "name": "stdout",
          "text": [
            "['The', 'University', 'of', 'Hawaii', 'began', 'using', 'radio', 'to', 'send', 'digital', 'information', 'as', 'early', 'a', 'Friedhelm']\n"
          ]
        }
      ]
    },
    {
      "cell_type": "code",
      "source": [
        "# 9. Append \"Innomatics Technology Hub\" in first 10 words.\n",
        "a[:11] = [\"Innomatics Technology Hub\"]\n",
        "print(a)\n"
      ],
      "metadata": {
        "colab": {
          "base_uri": "https://localhost:8080/"
        },
        "id": "mOvL7ngrRU9p",
        "outputId": "6d431579-866e-46c2-eecd-fffc82ed077a"
      },
      "execution_count": null,
      "outputs": [
        {
          "output_type": "stream",
          "name": "stdout",
          "text": [
            "['Innomatics Technology Hub', 'as', 'early', 'a', 'Friedhelm', 'Hillebrand', 'conceptualised', 'SMS', 'in', '1984', 'while', 'working', 'for', 'Deutsche', 'Telekom.', 'Sitting', 'Hillebrand', 'typed', 'out', 'random', 'sentences', 'and', 'counted', 'every', 'letter,', 'number,', 'punctuation,', 'and', 'sp', 'Almost', 'every', 'time,', 'the', 'messages', 'contained', 'fewer', 'than', '160', 'characters,', 'thus', 'giving', 'the', 'basis', 'limit', 'one', 'could', 'type', 'via', 'text', 'messaging.', 'With', 'Bernard', 'Ghillebaert', 'of', 'France', 'Télécom,', 'he', 'dev', 'a', 'proposal', 'for', 'the', 'GSM', '(Groupe', 'Spécial', 'Mobile)', 'meeting', 'in', 'February', '1985', 'in', 'Oslo.', 'The', 'first', 'technical', 'solution', 'evolved', 'in', 'a', 'GSM', 'subgroup', 'under', 'the', 'leadership', 'of', 'Finn', 'Trosby.', 'It', 'was', 'further', 'developed', 'under', 'the', 'leadership', 'of', 'Kevin', 'Holley', 'and', 'Ian', 'Harris', '(see', 'Short', 'Mes', 'SMS', 'forms', 'an', 'integral', 'part', 'of', 'SS7', '(Signalling', 'System', 'No.', '7).', 'under', 'SS7,', 'it', 'is', 'a', '\"state\"', 'wit', 'coded', 'in', 'the', 'ITU-T', '\"T.56\"', 'text', 'format,', 'that', 'has', 'a', '\"sequence', 'lead', 'in\"', 'to', 'determine', 'different', 'and', 'may', 'have', 'special', 'character', 'codes', 'that', 'permits,', 'for', 'example,', 'sending', 'simple', 'graphs', 'as', 'te', 'This', 'was', 'part', 'of', 'ISDN', '(Integrated', 'Services', 'Digital', 'Network)', 'and', 'since', 'GSM', 'is', 'based', 'on', 'this,', 'made', 'its', 'way', 'to', 'the', 'mobile', 'phone.', 'Messages', 'could', 'be', 'sent', 'and', 'received', 'on', 'ISDN', 'phones,', 'and', 'these', 'can', 'send', 'SMS', 'to', 'any', 'GSM', 'phone.', 'The', 'possibility', 'of', 'doing', 'something', 'is', 'one', 'thing,', 'implementing', 'it', 'another,', 'but', 'systems', 'existed', 'from', '1988', 'that', 'sent', 'SMS', 'messages', 'to', 'mobile', 'phophones', '(compare', 'ND-NOTIS).']\n"
          ]
        }
      ]
    },
    {
      "cell_type": "code",
      "source": [
        "#10. Convert every letter into upper case\n",
        "print(text.upper())\n"
      ],
      "metadata": {
        "colab": {
          "base_uri": "https://localhost:8080/"
        },
        "id": "oQ7NJOekRZ_5",
        "outputId": "95f3385b-3c15-4d89-f07e-08d729eb07e0"
      },
      "execution_count": null,
      "outputs": [
        {
          "output_type": "stream",
          "name": "stdout",
          "text": [
            "THE UNIVERSITY OF HAWAII BEGAN USING RADIO TO SEND DIGITAL INFORMATION AS EARLY\n",
            "A FRIEDHELM HILLEBRAND CONCEPTUALISED SMS IN 1984 WHILE WORKING FOR DEUTSCHE TELEKOM.\n",
            "SITTING HILLEBRAND TYPED OUT RANDOM SENTENCES AND COUNTED EVERY LETTER, NUMBER,\n",
            "PUNCTUATION, AND SP ALMOST EVERY TIME, THE MESSAGES CONTAINED FEWER THAN 160 CHARACTERS,\n",
            "THUS GIVING THE BASIS LIMIT ONE COULD TYPE VIA TEXT MESSAGING. WITH BERNARD GHILLEBAERT\n",
            "OF FRANCE TÉLÉCOM, HE DEV A PROPOSAL FOR THE GSM (GROUPE SPÉCIAL MOBILE) MEETING IN\n",
            "FEBRUARY 1985 IN OSLO.\n",
            "THE FIRST TECHNICAL SOLUTION EVOLVED IN A GSM SUBGROUP UNDER THE LEADERSHIP OF FINN\n",
            "TROSBY. IT WAS FURTHER DEVELOPED UNDER THE LEADERSHIP OF KEVIN HOLLEY AND IAN HARRIS (SEE\n",
            "SHORT MES SMS FORMS AN INTEGRAL PART OF SS7 (SIGNALLING SYSTEM NO. 7). UNDER SS7, IT IS A\n",
            "\"STATE\" WIT CODED IN THE ITU-T \"T.56\" TEXT FORMAT, THAT HAS A \"SEQUENCE LEAD IN\" TO\n",
            "DETERMINE DIFFERENT AND MAY HAVE SPECIAL CHARACTER CODES THAT PERMITS, FOR EXAMPLE,\n",
            "SENDING SIMPLE GRAPHS AS TE THIS WAS PART OF ISDN (INTEGRATED SERVICES DIGITAL NETWORK)\n",
            "AND SINCE GSM IS BASED ON THIS, MADE ITS WAY TO THE MOBILE PHONE. MESSAGES COULD BE SENT\n",
            "AND RECEIVED ON ISDN PHONES,\n",
            "AND THESE CAN SEND SMS TO ANY GSM PHONE. THE POSSIBILITY OF DOING SOMETHING IS ONE THING,\n",
            "IMPLEMENTING IT ANOTHER, BUT SYSTEMS EXISTED FROM 1988 THAT SENT SMS MESSAGES TO MOBILE\n",
            "PHOPHONES (COMPARE ND-NOTIS).\n"
          ]
        }
      ]
    },
    {
      "cell_type": "code",
      "source": [
        "#11. Convert every letter into lower case\n",
        "print(text.lower())\n"
      ],
      "metadata": {
        "colab": {
          "base_uri": "https://localhost:8080/"
        },
        "id": "g2GfbKEpRhYZ",
        "outputId": "d5d28b37-b268-434b-bfc0-436a0af956dc"
      },
      "execution_count": null,
      "outputs": [
        {
          "output_type": "stream",
          "name": "stdout",
          "text": [
            "the university of hawaii began using radio to send digital information as early\n",
            "a friedhelm hillebrand conceptualised sms in 1984 while working for deutsche telekom.\n",
            "sitting hillebrand typed out random sentences and counted every letter, number,\n",
            "punctuation, and sp almost every time, the messages contained fewer than 160 characters,\n",
            "thus giving the basis limit one could type via text messaging. with bernard ghillebaert\n",
            "of france télécom, he dev a proposal for the gsm (groupe spécial mobile) meeting in\n",
            "february 1985 in oslo.\n",
            "the first technical solution evolved in a gsm subgroup under the leadership of finn\n",
            "trosby. it was further developed under the leadership of kevin holley and ian harris (see\n",
            "short mes sms forms an integral part of ss7 (signalling system no. 7). under ss7, it is a\n",
            "\"state\" wit coded in the itu-t \"t.56\" text format, that has a \"sequence lead in\" to\n",
            "determine different and may have special character codes that permits, for example,\n",
            "sending simple graphs as te this was part of isdn (integrated services digital network)\n",
            "and since gsm is based on this, made its way to the mobile phone. messages could be sent\n",
            "and received on isdn phones,\n",
            "and these can send sms to any gsm phone. the possibility of doing something is one thing,\n",
            "implementing it another, but systems existed from 1988 that sent sms messages to mobile\n",
            "phophones (compare nd-notis).\n"
          ]
        }
      ]
    },
    {
      "cell_type": "code",
      "source": [
        "#12. Replace the word \"University\" with name \"Innomatics\" in text\n",
        "print(text.replace(\"University\", \"Innomatics\"))\n"
      ],
      "metadata": {
        "colab": {
          "base_uri": "https://localhost:8080/"
        },
        "id": "x_vcdEQyRm2K",
        "outputId": "3faca6ac-8793-4b47-ad47-d7fe8244997e"
      },
      "execution_count": null,
      "outputs": [
        {
          "output_type": "stream",
          "name": "stdout",
          "text": [
            "The Innomatics of Hawaii began using radio to send digital information as early\n",
            "a Friedhelm Hillebrand conceptualised SMS in 1984 while working for Deutsche Telekom.\n",
            "Sitting Hillebrand typed out random sentences and counted every letter, number,\n",
            "punctuation, and sp Almost every time, the messages contained fewer than 160 characters,\n",
            "thus giving the basis limit one could type via text messaging. With Bernard Ghillebaert\n",
            "of France Télécom, he dev a proposal for the GSM (Groupe Spécial Mobile) meeting in\n",
            "February 1985 in Oslo.\n",
            "The first technical solution evolved in a GSM subgroup under the leadership of Finn\n",
            "Trosby. It was further developed under the leadership of Kevin Holley and Ian Harris (see\n",
            "Short Mes SMS forms an integral part of SS7 (Signalling System No. 7). under SS7, it is a\n",
            "\"state\" wit coded in the ITU-T \"T.56\" text format, that has a \"sequence lead in\" to\n",
            "determine different and may have special character codes that permits, for example,\n",
            "sending simple graphs as te This was part of ISDN (Integrated Services Digital Network)\n",
            "and since GSM is based on this, made its way to the mobile phone. Messages could be sent\n",
            "and received on ISDN phones,\n",
            "and these can send SMS to any GSM phone. The possibility of doing something is one thing,\n",
            "implementing it another, but systems existed from 1988 that sent SMS messages to mobile\n",
            "phophones (compare ND-NOTIS).\n"
          ]
        }
      ]
    }
  ]
}